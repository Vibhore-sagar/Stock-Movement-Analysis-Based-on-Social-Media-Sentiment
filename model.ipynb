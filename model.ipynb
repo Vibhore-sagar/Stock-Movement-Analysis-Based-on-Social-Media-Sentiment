{
 "cells": [
  {
   "cell_type": "code",
   "execution_count": 240,
   "id": "31b8d1db-0b92-4dbb-b7d1-78a157e2aa86",
   "metadata": {},
   "outputs": [
    {
     "name": "stdout",
     "output_type": "stream",
     "text": [
      "Requirement already satisfied: praw in c:\\users\\dell\\anaconda3\\lib\\site-packages (7.8.1)\n",
      "Requirement already satisfied: prawcore<3,>=2.4 in c:\\users\\dell\\anaconda3\\lib\\site-packages (from praw) (2.4.0)\n",
      "Requirement already satisfied: update_checker>=0.18 in c:\\users\\dell\\anaconda3\\lib\\site-packages (from praw) (0.18.0)\n",
      "Requirement already satisfied: websocket-client>=0.54.0 in c:\\users\\dell\\anaconda3\\lib\\site-packages (from praw) (1.8.0)\n",
      "Requirement already satisfied: requests<3.0,>=2.6.0 in c:\\users\\dell\\anaconda3\\lib\\site-packages (from prawcore<3,>=2.4->praw) (2.32.2)\n",
      "Requirement already satisfied: charset-normalizer<4,>=2 in c:\\users\\dell\\anaconda3\\lib\\site-packages (from requests<3.0,>=2.6.0->prawcore<3,>=2.4->praw) (2.0.4)\n",
      "Requirement already satisfied: idna<4,>=2.5 in c:\\users\\dell\\anaconda3\\lib\\site-packages (from requests<3.0,>=2.6.0->prawcore<3,>=2.4->praw) (3.7)\n",
      "Requirement already satisfied: urllib3<3,>=1.21.1 in c:\\users\\dell\\anaconda3\\lib\\site-packages (from requests<3.0,>=2.6.0->prawcore<3,>=2.4->praw) (2.2.2)\n",
      "Requirement already satisfied: certifi>=2017.4.17 in c:\\users\\dell\\anaconda3\\lib\\site-packages (from requests<3.0,>=2.6.0->prawcore<3,>=2.4->praw) (2024.7.4)\n",
      "Note: you may need to restart the kernel to use updated packages.\n"
     ]
    }
   ],
   "source": [
    "pip install praw"
   ]
  },
  {
   "cell_type": "code",
   "execution_count": 241,
   "id": "97a0b448-c283-4776-9345-9da591c7778d",
   "metadata": {},
   "outputs": [
    {
     "name": "stdout",
     "output_type": "stream",
     "text": [
      "Requirement already satisfied: yfinance in c:\\users\\dell\\anaconda3\\lib\\site-packages (0.2.50)\n",
      "Requirement already satisfied: pandas>=1.3.0 in c:\\users\\dell\\anaconda3\\lib\\site-packages (from yfinance) (2.2.2)\n",
      "Requirement already satisfied: numpy>=1.16.5 in c:\\users\\dell\\anaconda3\\lib\\site-packages (from yfinance) (1.26.4)\n",
      "Requirement already satisfied: requests>=2.31 in c:\\users\\dell\\anaconda3\\lib\\site-packages (from yfinance) (2.32.2)\n",
      "Requirement already satisfied: multitasking>=0.0.7 in c:\\users\\dell\\anaconda3\\lib\\site-packages (from yfinance) (0.0.11)\n",
      "Requirement already satisfied: lxml>=4.9.1 in c:\\users\\dell\\anaconda3\\lib\\site-packages (from yfinance) (5.2.1)\n",
      "Requirement already satisfied: platformdirs>=2.0.0 in c:\\users\\dell\\anaconda3\\lib\\site-packages (from yfinance) (3.10.0)\n",
      "Requirement already satisfied: pytz>=2022.5 in c:\\users\\dell\\anaconda3\\lib\\site-packages (from yfinance) (2024.1)\n",
      "Requirement already satisfied: frozendict>=2.3.4 in c:\\users\\dell\\anaconda3\\lib\\site-packages (from yfinance) (2.4.2)\n",
      "Requirement already satisfied: peewee>=3.16.2 in c:\\users\\dell\\anaconda3\\lib\\site-packages (from yfinance) (3.17.8)\n",
      "Requirement already satisfied: beautifulsoup4>=4.11.1 in c:\\users\\dell\\anaconda3\\lib\\site-packages (from yfinance) (4.12.3)\n",
      "Requirement already satisfied: html5lib>=1.1 in c:\\users\\dell\\anaconda3\\lib\\site-packages (from yfinance) (1.1)\n",
      "Requirement already satisfied: soupsieve>1.2 in c:\\users\\dell\\anaconda3\\lib\\site-packages (from beautifulsoup4>=4.11.1->yfinance) (2.5)\n",
      "Requirement already satisfied: six>=1.9 in c:\\users\\dell\\anaconda3\\lib\\site-packages (from html5lib>=1.1->yfinance) (1.16.0)\n",
      "Requirement already satisfied: webencodings in c:\\users\\dell\\anaconda3\\lib\\site-packages (from html5lib>=1.1->yfinance) (0.5.1)\n",
      "Requirement already satisfied: python-dateutil>=2.8.2 in c:\\users\\dell\\anaconda3\\lib\\site-packages (from pandas>=1.3.0->yfinance) (2.9.0.post0)\n",
      "Requirement already satisfied: tzdata>=2022.7 in c:\\users\\dell\\anaconda3\\lib\\site-packages (from pandas>=1.3.0->yfinance) (2023.3)\n",
      "Requirement already satisfied: charset-normalizer<4,>=2 in c:\\users\\dell\\anaconda3\\lib\\site-packages (from requests>=2.31->yfinance) (2.0.4)\n",
      "Requirement already satisfied: idna<4,>=2.5 in c:\\users\\dell\\anaconda3\\lib\\site-packages (from requests>=2.31->yfinance) (3.7)\n",
      "Requirement already satisfied: urllib3<3,>=1.21.1 in c:\\users\\dell\\anaconda3\\lib\\site-packages (from requests>=2.31->yfinance) (2.2.2)\n",
      "Requirement already satisfied: certifi>=2017.4.17 in c:\\users\\dell\\anaconda3\\lib\\site-packages (from requests>=2.31->yfinance) (2024.7.4)\n",
      "Note: you may need to restart the kernel to use updated packages.\n"
     ]
    }
   ],
   "source": [
    "pip install yfinance"
   ]
  },
  {
   "cell_type": "code",
   "execution_count": 242,
   "id": "ee62bf5d",
   "metadata": {},
   "outputs": [],
   "source": [
    "import praw\n",
    "import yfinance as yf\n",
    "import pandas as pd\n",
    "import numpy as np\n",
    "import re\n",
    "from textblob import TextBlob\n",
    "from sklearn.model_selection import train_test_split\n",
    "from sklearn.ensemble import RandomForestClassifier\n",
    "from sklearn.metrics import classification_report, accuracy_score, precision_score, recall_score, f1_score\n",
    "import joblib\n",
    "from datetime import datetime, timedelta, timezone"
   ]
  },
  {
   "cell_type": "markdown",
   "id": "dee4c051-0d0a-4300-96e0-21a56c32a08e",
   "metadata": {},
   "source": [
    "### Scraping Data from Reddit"
   ]
  },
  {
   "cell_type": "code",
   "execution_count": 244,
   "id": "20fc33c8-3552-4a47-ae5a-0cea3e644d24",
   "metadata": {},
   "outputs": [],
   "source": [
    "def scrape_reddit(subreddit_name, limit=100):\n",
    "    reddit = praw.Reddit(client_id=\"t6itdwpgPsWhvgV2t6rbLA\",\n",
    "                        client_secret = \"KkvnosUw6WRaMC242BcqCki1-O2DjA\",\n",
    "                        user_agent=\"StockSentimentAnalysisScript/0.1 by PrizeCustard2561\")\n",
    "    subreddit = reddit.subreddit(subreddit_name)\n",
    "    posts=[]\n",
    "    for submission in subreddit.new(limit=limit):\n",
    "        posts.append({\n",
    "            \"title\": submission.title,\n",
    "            \"content\": submission.selftext,\n",
    "            \"upvotes\":submission.score,\n",
    "            \"comments\":submission.num_comments,\n",
    "            \"created_utc\":submission.created_utc\n",
    "        })\n",
    "    return pd.DataFrame(posts)"
   ]
  },
  {
   "cell_type": "markdown",
   "id": "342ceeaf-9c25-46d3-93ed-a0450dc93e83",
   "metadata": {},
   "source": [
    "### Fetch stock Data"
   ]
  },
  {
   "cell_type": "code",
   "execution_count": 246,
   "id": "bf744f44-81a0-41d3-940b-54afa0722799",
   "metadata": {},
   "outputs": [],
   "source": [
    "def fetch_stock_data(ticker, start_date, end_date):\n",
    "    # Download stock data\n",
    "    stock_data = yf.download(ticker, start=start_date, end=end_date)\n",
    "    \n",
    "    # Reset the index to flatten the MultiIndex\n",
    "    stock_data.reset_index(inplace=True)\n",
    "    stock_data.columns = stock_data.columns.get_level_values(0)  # Flatten MultiIndex\n",
    "\n",
    "    # Add derived columns\n",
    "    stock_data['Price_Change'] = stock_data['Close'].diff().shift(-1)  # Price change for next day\n",
    "    stock_data['Movement'] = (stock_data['Price_Change'] > 0).astype(int)  # Binary movement\n",
    "    \n",
    "    # Ensure 'Date' column matches format\n",
    "    stock_data['Date'] = pd.to_datetime(stock_data['Date']).dt.date\n",
    "    \n",
    "    # Select only relevant columns\n",
    "    return stock_data[['Date', 'Close', 'Movement']]\n"
   ]
  },
  {
   "cell_type": "markdown",
   "id": "0cad0b3e-a77e-46e5-8a86-8e48d41d3f26",
   "metadata": {},
   "source": [
    "### Align Reddit Posts with stock data"
   ]
  },
  {
   "cell_type": "code",
   "execution_count": 248,
   "id": "fc9c67d1-dc28-4536-9130-418b8466cd52",
   "metadata": {},
   "outputs": [],
   "source": [
    "\n",
    "def align_data_with_stock(reddit_data, stock_data):\n",
    "    reddit_data['Date'] = pd.to_datetime(reddit_data['created_utc'], unit='s').dt.date\n",
    "\n",
    "    # Ensure column types match for merging\n",
    "    stock_data['Date'] = pd.to_datetime(stock_data['Date']).dt.date\n",
    "    reddit_data['Date'] = pd.to_datetime(reddit_data['Date']).dt.date\n",
    "\n",
    "    print(\"Reddit Data Columns:\", reddit_data.columns)\n",
    "    print(\"Stock Data Columns:\", stock_data.columns)\n",
    "\n",
    "    # Merge on 'Date'\n",
    "    merged_data = pd.merge(reddit_data, stock_data, on='Date', how='inner')\n",
    "    return merged_data\n"
   ]
  },
  {
   "cell_type": "markdown",
   "id": "06346a5b-2ba0-4944-984c-564c624c26ec",
   "metadata": {},
   "source": [
    "### Clean and prepocess data"
   ]
  },
  {
   "cell_type": "code",
   "execution_count": 250,
   "id": "e4c0da95-b394-4ddd-80a9-f5b084554ed2",
   "metadata": {},
   "outputs": [],
   "source": [
    "\n",
    "def preprocess_data_with_stock(df, ticker_list):\n",
    "    df['content'] = df['content'].fillna(\"\")  # Handle missing content\n",
    "    df['text'] = df['title'] + \" \" + df['content']  # Combine title and content\n",
    "    # df['text'] = df['text'].apply(clean_text)  # Clean text\n",
    "    df['sentiment'] = df['text'].apply(lambda x: TextBlob(x).sentiment.polarity)  # Calculate sentiment\n",
    "    df['stock_mentions'] = df['text'].apply(lambda x: len([ticker for ticker in ticker_list if ticker in x])) #Extract stock mentions\n",
    "    df['hour'] = pd.to_datetime(df['created_utc'], unit='s').dt.hour\n",
    "    # df['stock_movement'] = (df['sentiment'] > 0).astype(int)  # Mock target: Positive sentiment -> Increase (1)\n",
    "    df['is_trading_hours'] = df['hour'].between(9, 16).astype(int)\n",
    "    # Final DataFrame with features and real stock movement\n",
    "    return df[['text', 'sentiment', 'upvotes', 'comments', 'stock_mentions', 'is_trading_hours', 'Movement']]"
   ]
  },
  {
   "cell_type": "markdown",
   "id": "14c6e435-566d-40ee-8d07-8c0e942a179a",
   "metadata": {},
   "source": [
    "### Train Machine learning Model"
   ]
  },
  {
   "cell_type": "code",
   "execution_count": 252,
   "id": "6d1fcd2c-a65e-434d-b3cf-e4d36f6a46ae",
   "metadata": {},
   "outputs": [],
   "source": [
    "def train_model(df):\n",
    "    features = ['sentiment', 'upvotes', 'comments', 'stock_mentions', 'is_trading_hours']\n",
    "    X=df[features] #feature: sentiment\n",
    "    y=df['Movement'] # Target: Stock movement (0 or 1)\n",
    "\n",
    "    # spliting in train and test sets\n",
    "    X_train,X_test, y_train, y_test = train_test_split(X, y, test_size=0.2, random_state=42)\n",
    "\n",
    "    #Train Random Forest Classifier\n",
    "    model = RandomForestClassifier(random_state=42)\n",
    "    model.fit(X_train, y_train)\n",
    "\n",
    "    # make Predictions\n",
    "    y_pred = model.predict(X_test)\n",
    "\n",
    "    #Evaluate Model\n",
    "    print(\"\\nModel Evaluation Metrics:\")\n",
    "    print(f\"Accuracy: {accuracy_score(y_test, y_pred):.2f}\")\n",
    "    # Handle Undefined Metric Warning with zero_division=0\n",
    "    precision = precision_score(y_test, y_pred, zero_division=0)\n",
    "    recall = recall_score(y_test, y_pred, zero_division=0)\n",
    "    f1 = f1_score(y_test, y_pred, zero_division=0)  \n",
    "    print(f\"Precision: {precision:.2f}\")\n",
    "    print(f\"Recall: {recall:.2f}\")\n",
    "    print(f\"F1 Score: {f1:.2f}\")\n",
    "    print(\"\\nClassification Report: \")\n",
    "    print(classification_report(y_test, y_pred, zero_division=0))\n",
    "\n",
    "    return model"
   ]
  },
  {
   "cell_type": "markdown",
   "id": "95b02ff0-59b9-49e9-aa2f-a7adf031973f",
   "metadata": {},
   "source": [
    "### Save the Model"
   ]
  },
  {
   "cell_type": "code",
   "execution_count": 254,
   "id": "8d3ac62d-0bb4-4e74-af7d-f632371bbb81",
   "metadata": {},
   "outputs": [],
   "source": [
    "def save_model(model, filename=\"stock_movement_model_1.pkl\"):\n",
    "    joblib.dump(model,filename)"
   ]
  },
  {
   "cell_type": "markdown",
   "id": "a4259fa2-fc3e-4d55-95f6-915f81bb1277",
   "metadata": {},
   "source": [
    "### Exection"
   ]
  },
  {
   "cell_type": "code",
   "execution_count": 278,
   "id": "e763967d-f849-47c4-bbf7-d2045efd5494",
   "metadata": {},
   "outputs": [
    {
     "name": "stdout",
     "output_type": "stream",
     "text": [
      "Scraping data...\n"
     ]
    },
    {
     "name": "stderr",
     "output_type": "stream",
     "text": [
      "[*********************100%***********************]  1 of 1 completed"
     ]
    },
    {
     "name": "stdout",
     "output_type": "stream",
     "text": [
      "Fetching stock data...\n",
      "Price        Date       Close  Movement\n",
      "0      2024-11-06  288.529999         1\n",
      "1      2024-11-07  296.910004         1\n",
      "2      2024-11-08  321.220001         1\n",
      "3      2024-11-11  350.000000         0\n",
      "4      2024-11-12  328.489990         1\n",
      "Index(['Date', 'Close', 'Movement'], dtype='object', name='Price')\n",
      "Aligning data...\n",
      "Reddit Data Columns: Index(['title', 'content', 'upvotes', 'comments', 'created_utc', 'Date'], dtype='object')\n",
      "Stock Data Columns: Index(['Date', 'Close', 'Movement'], dtype='object', name='Price')\n",
      "Aligned data sample:\n",
      "                                               title  \\\n",
      "0  Looking for opinions regarding investment into...   \n",
      "1  Does My Allocation Make Sense? Or Too Much Red...   \n",
      "2  What is your thought on my portfolio and strat...   \n",
      "3  Why is saving for retirement as a business own...   \n",
      "4                    Financial adviser being a dick    \n",
      "\n",
      "                                             content  upvotes  comments  \\\n",
      "0  With GTA6 on the way I realized the possible p...        0        15   \n",
      "1  I'm hoping to get some input as I'm unsure if ...        1         0   \n",
      "2  I'm 30M. I recently started investing in ETF &...        0         3   \n",
      "3  This is more of a rant than anything. \\n\\nI’ve...        2        11   \n",
      "4  I am having real issues with a financial advis...       21        53   \n",
      "\n",
      "    created_utc        Date      Close  Movement  \n",
      "0  1.733443e+09  2024-12-05  369.48999         0  \n",
      "1  1.733440e+09  2024-12-05  369.48999         0  \n",
      "2  1.733440e+09  2024-12-05  369.48999         0  \n",
      "3  1.733434e+09  2024-12-05  369.48999         0  \n",
      "4  1.733433e+09  2024-12-05  369.48999         0  \n",
      "Preprocessing data...\n",
      "Trainig model...\n"
     ]
    },
    {
     "name": "stderr",
     "output_type": "stream",
     "text": [
      "\n"
     ]
    },
    {
     "name": "stdout",
     "output_type": "stream",
     "text": [
      "\n",
      "Model Evaluation Metrics:\n",
      "Accuracy: 0.71\n",
      "Precision: 0.00\n",
      "Recall: 0.00\n",
      "F1 Score: 0.00\n",
      "\n",
      "Classification Report: \n",
      "              precision    recall  f1-score   support\n",
      "\n",
      "           0       0.71      1.00      0.83        10\n",
      "           1       0.00      0.00      0.00         4\n",
      "\n",
      "    accuracy                           0.71        14\n",
      "   macro avg       0.36      0.50      0.42        14\n",
      "weighted avg       0.51      0.71      0.60        14\n",
      "\n",
      "Saving model...\n",
      "Process completed successfully!\n"
     ]
    }
   ],
   "source": [
    "if __name__== \"__main__\":\n",
    "    # Define stock ticker list (example)\n",
    "    ticker_list = [\"AAPL\", \"TSLA\", \"AMZN\", \"GOOGL\", \"MSFT\"]\n",
    "    #Scrape data from Reddit\n",
    "    print(\"Scraping data...\")\n",
    "    reddit_data = scrape_reddit(\"investing\", limit=100)\n",
    "\n",
    "    #Fetch stock data\n",
    "    print(\"Fetching stock data...\")\n",
    "    start_date = (datetime.now(timezone.utc) - timedelta(days=30)).strftime('%Y-%m-%d')\n",
    "    end_date = datetime.now(timezone.utc).strftime('%Y-%m-%d')\n",
    "    stock_data = fetch_stock_data(\"TSLA\", start_date, end_date)\n",
    "    print(stock_data.head())\n",
    "    print(stock_data.columns)\n",
    "\n",
    "    #Align Reddit Data with stock data\n",
    "    print('Aligning data...')\n",
    "    aligned_data = align_data_with_stock(reddit_data, stock_data)\n",
    "    \n",
    "    # Check aligned data sample\n",
    "    print(\"Aligned data sample:\")\n",
    "    print(aligned_data.head())\n",
    "\n",
    "    # Preprocess data\n",
    "    print(\"Preprocessing data...\")\n",
    "    processed_data = preprocess_data_with_stock(aligned_data, ticker_list)\n",
    "\n",
    "    #Train the model\n",
    "    print(\"Trainig model...\")\n",
    "    model = train_model(processed_data)\n",
    "\n",
    "    #save the model\n",
    "    print(\"Saving model...\")\n",
    "    save_model(model)\n",
    "\n",
    "    print(\"Process completed successfully!\")"
   ]
  },
  {
   "cell_type": "code",
   "execution_count": null,
   "id": "774fc838-207b-48b4-b1fa-98f5c41dc9b4",
   "metadata": {},
   "outputs": [],
   "source": []
  }
 ],
 "metadata": {
  "kernelspec": {
   "display_name": "Python 3 (ipykernel)",
   "language": "python",
   "name": "python3"
  },
  "language_info": {
   "codemirror_mode": {
    "name": "ipython",
    "version": 3
   },
   "file_extension": ".py",
   "mimetype": "text/x-python",
   "name": "python",
   "nbconvert_exporter": "python",
   "pygments_lexer": "ipython3",
   "version": "3.12.4"
  }
 },
 "nbformat": 4,
 "nbformat_minor": 5
}
